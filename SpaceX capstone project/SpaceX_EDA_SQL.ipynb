{
 "cells": [
  {
   "cell_type": "markdown",
   "id": "0ce0ab81",
   "metadata": {},
   "source": [
    "\n",
    "# Exploratory Data Analysis (EDA) - SQL\n",
    "\n",
    "This notebook demonstrates how to perform data exploration using SQL queries on the SpaceX dataset.\n",
    "\n",
    "## Objectives:\n",
    "- Use SQL to find unique launch sites, successful missions, payload stats, etc.\n",
    "- Analyze mission outcomes and booster performance.\n"
   ]
  },
  {
   "cell_type": "markdown",
   "id": "87a43552",
   "metadata": {},
   "source": [
    "## Import Required Libraries and Load Dataset"
   ]
  },
  {
   "cell_type": "code",
   "execution_count": 1,
   "id": "637cd1e5",
   "metadata": {},
   "outputs": [
    {
     "data": {
      "text/html": [
       "<div>\n",
       "<style scoped>\n",
       "    .dataframe tbody tr th:only-of-type {\n",
       "        vertical-align: middle;\n",
       "    }\n",
       "\n",
       "    .dataframe tbody tr th {\n",
       "        vertical-align: top;\n",
       "    }\n",
       "\n",
       "    .dataframe thead th {\n",
       "        text-align: right;\n",
       "    }\n",
       "</style>\n",
       "<table border=\"1\" class=\"dataframe\">\n",
       "  <thead>\n",
       "    <tr style=\"text-align: right;\">\n",
       "      <th></th>\n",
       "      <th>flight_no.</th>\n",
       "      <th>date_and_time_(utc)</th>\n",
       "      <th>version,_booster[h]</th>\n",
       "      <th>launch_site</th>\n",
       "      <th>payload[i]</th>\n",
       "      <th>payload_mass</th>\n",
       "      <th>orbit</th>\n",
       "      <th>customer</th>\n",
       "      <th>launch_outcome</th>\n",
       "      <th>booster_landing</th>\n",
       "    </tr>\n",
       "  </thead>\n",
       "  <tbody>\n",
       "    <tr>\n",
       "      <th>0</th>\n",
       "      <td>195</td>\n",
       "      <td>January 3, 2023 14:56[17]</td>\n",
       "      <td>F9 B5 B1060‑15</td>\n",
       "      <td>Cape Canaveral, SLC‑40</td>\n",
       "      <td>Transporter-6 (115 payload smallsat rideshare)</td>\n",
       "      <td>Unknown[j]</td>\n",
       "      <td>SSO</td>\n",
       "      <td>Various</td>\n",
       "      <td>Success</td>\n",
       "      <td>Success (LZ‑1)</td>\n",
       "    </tr>\n",
       "    <tr>\n",
       "      <th>1</th>\n",
       "      <td>196</td>\n",
       "      <td>January 10, 2023 04:50[23]</td>\n",
       "      <td>F9 B5 B1076‑2</td>\n",
       "      <td>Cape Canaveral, SLC‑40</td>\n",
       "      <td>OneWeb 16 (40 satellites)</td>\n",
       "      <td>6,000 kg (13,000 lb)</td>\n",
       "      <td>Polar LEO</td>\n",
       "      <td>OneWeb</td>\n",
       "      <td>Success</td>\n",
       "      <td>Success (LZ‑1)</td>\n",
       "    </tr>\n",
       "    <tr>\n",
       "      <th>2</th>\n",
       "      <td>FH 5</td>\n",
       "      <td>January 15, 2023 22:56[29]</td>\n",
       "      <td>Falcon Heavy B5 B1070 (core)</td>\n",
       "      <td>Kennedy, LC‑39A</td>\n",
       "      <td>USSF-67 (CBAS-2 &amp; LDPE-3A)</td>\n",
       "      <td>~3,750 kg (8,270 lb)</td>\n",
       "      <td>GEO</td>\n",
       "      <td>USSF</td>\n",
       "      <td>Success</td>\n",
       "      <td>No attempt</td>\n",
       "    </tr>\n",
       "    <tr>\n",
       "      <th>3</th>\n",
       "      <td>197</td>\n",
       "      <td>January 18, 2023 12:24[33]</td>\n",
       "      <td>F9 B5 B1077‑2</td>\n",
       "      <td>Cape Canaveral, SLC‑40</td>\n",
       "      <td>USA-343 (GPS-III SV06)</td>\n",
       "      <td>4,352 kg (9,595 lb)</td>\n",
       "      <td>MEO</td>\n",
       "      <td>USSF</td>\n",
       "      <td>Success</td>\n",
       "      <td>Success (JRTI)</td>\n",
       "    </tr>\n",
       "    <tr>\n",
       "      <th>4</th>\n",
       "      <td>198</td>\n",
       "      <td>January 19, 2023 15:43[39]</td>\n",
       "      <td>F9 B5 B1075‑1</td>\n",
       "      <td>Vandenberg, SLC‑4E</td>\n",
       "      <td>Starlink: Group 2-4 (51 satellites)</td>\n",
       "      <td>15,000 kg (33,000 lb)</td>\n",
       "      <td>LEO</td>\n",
       "      <td>SpaceX</td>\n",
       "      <td>Success</td>\n",
       "      <td>Success (OCISLY)</td>\n",
       "    </tr>\n",
       "  </tbody>\n",
       "</table>\n",
       "</div>"
      ],
      "text/plain": [
       "  flight_no.         date_and_time_(utc)           version,_booster[h]  \\\n",
       "0        195   January 3, 2023 14:56[17]                F9 B5 B1060‑15   \n",
       "1        196  January 10, 2023 04:50[23]                 F9 B5 B1076‑2   \n",
       "2       FH 5  January 15, 2023 22:56[29]  Falcon Heavy B5 B1070 (core)   \n",
       "3        197  January 18, 2023 12:24[33]                 F9 B5 B1077‑2   \n",
       "4        198  January 19, 2023 15:43[39]                 F9 B5 B1075‑1   \n",
       "\n",
       "              launch_site                                      payload[i]  \\\n",
       "0  Cape Canaveral, SLC‑40  Transporter-6 (115 payload smallsat rideshare)   \n",
       "1  Cape Canaveral, SLC‑40                       OneWeb 16 (40 satellites)   \n",
       "2         Kennedy, LC‑39A                      USSF-67 (CBAS-2 & LDPE-3A)   \n",
       "3  Cape Canaveral, SLC‑40                          USA-343 (GPS-III SV06)   \n",
       "4      Vandenberg, SLC‑4E             Starlink: Group 2-4 (51 satellites)   \n",
       "\n",
       "            payload_mass      orbit customer launch_outcome   booster_landing  \n",
       "0             Unknown[j]        SSO  Various        Success    Success (LZ‑1)  \n",
       "1   6,000 kg (13,000 lb)  Polar LEO   OneWeb        Success    Success (LZ‑1)  \n",
       "2   ~3,750 kg (8,270 lb)        GEO     USSF        Success        No attempt  \n",
       "3    4,352 kg (9,595 lb)        MEO     USSF        Success    Success (JRTI)  \n",
       "4  15,000 kg (33,000 lb)        LEO   SpaceX        Success  Success (OCISLY)  "
      ]
     },
     "execution_count": 1,
     "metadata": {},
     "output_type": "execute_result"
    }
   ],
   "source": [
    "import pandas as pd\n",
    "from pandasql import sqldf\n",
    "pysqldf = lambda q: sqldf(q, globals())\n",
    "\n",
    "# Load data\n",
    "df = pd.read_csv(\"spacex_clean_data.csv\")\n",
    "df.head()"
   ]
  },
  {
   "cell_type": "markdown",
   "id": "bed09979",
   "metadata": {},
   "source": [
    "## Run SQL Queries"
   ]
  },
  {
   "cell_type": "code",
   "execution_count": 2,
   "id": "a6599b9e",
   "metadata": {},
   "outputs": [],
   "source": [
    "import re\n",
    "#Clean payload_mass to extract numerical kg values\n",
    "def extract_kg(payload):\n",
    "    match = re.search(r\"([\\d,]+)\\s*kg\", str(payload))\n",
    "    if match:\n",
    "        return float(match.group(1).replace(\",\", \"\"))\n",
    "    return None\n",
    "\n",
    "df['payload_mass_clean'] = df['payload_mass'].apply(extract_kg)\n",
    "\n",
    "# 1. Unique Launch Sites\n",
    "q1 = pysqldf(\"SELECT DISTINCT launch_site FROM df\")\n",
    "\n",
    "# 2. Launch Sites beginning with 'CCA'\n",
    "q2 = pysqldf(\"SELECT DISTINCT launch_site FROM df WHERE launch_site LIKE 'Cape Canaveral%' LIMIT 5\")\n",
    "\n",
    "# 3. Total payload from NASA\n",
    "q3 = pysqldf(\"SELECT SUM(payload_mass_clean) AS total_payload FROM df WHERE customer LIKE '%NASA%'\")\n",
    "\n",
    "# 4. Average payload for F9 v1.1\n",
    "q4 = pysqldf(\"SELECT AVG(payload_mass_clean) AS avg_payload FROM df WHERE `version,_booster[h]` LIKE '%F9%'\")\n",
    "\n",
    "# 5. First successful landing on ground pad\n",
    "ground_pad_success_landings = ['Success (LZ‑1)', 'Success (LZ‑2)', 'Success (LZ‑4)']\n",
    "q5 = df[df['booster_landing'].isin(ground_pad_success_landings)]['date_and_time_(utc)'].min()\n",
    "\n",
    "# 6. Boosters that landed on drone ship with 4000 < payload < 6000\n",
    "drone_ship_success_landings = ['Success (JRTI)', 'Success (OCISLY)', 'Success (ASOG)']\n",
    "q6_fixed = df[(df['booster_landing'].isin(drone_ship_success_landings)) &\n",
    "              (df['payload_mass_clean'] > 4000) &\n",
    "              (df['payload_mass_clean'] < 6000)]['version,_booster[h]'].unique()\n",
    "q6= pd.DataFrame(q6_fixed, columns=['version,_booster[h]'])\n",
    "\n",
    "# 7. Total successful vs failure mission outcomes\n",
    "q7 = pysqldf(\"SELECT launch_outcome, COUNT(*) AS count FROM df GROUP BY launch_outcome\")\n",
    "\n",
    "# 8. Booster with maximum payload\n",
    "q8 = pysqldf(\"\"\"\n",
    "SELECT `version,_booster[h]`, MAX(payload_mass_clean) AS max_payload \n",
    "FROM df\n",
    "\"\"\")\n",
    "\n",
    "# 9. Failed landing outcomes on drone ship in 2015\n",
    "q9 = pysqldf(\"\"\"\n",
    "SELECT `version,_booster[h]`, launch_site, `date_and_time_(utc)` \n",
    "FROM df \n",
    "WHERE booster_landing = 'Failure (drone ship)' \n",
    "AND `date_and_time_(utc)` LIKE '2015%'\n",
    "\"\"\")\n",
    "\n",
    "# 10. Ranked landing outcomes between 2010-06-04 and 2017-03-20\n",
    "q10 = pysqldf(\"\"\"\n",
    "SELECT booster_landing, COUNT(*) AS count \n",
    "FROM df \n",
    "WHERE `date_and_time_(utc)` BETWEEN '2010-06-04' AND '2017-03-20' \n",
    "GROUP BY booster_landing \n",
    "ORDER BY count DESC\n",
    "\"\"\")"
   ]
  },
  {
   "cell_type": "markdown",
   "id": "86a0cfbd",
   "metadata": {},
   "source": [
    "## Display the output"
   ]
  },
  {
   "cell_type": "code",
   "execution_count": 3,
   "id": "e74c703f",
   "metadata": {},
   "outputs": [
    {
     "name": "stdout",
     "output_type": "stream",
     "text": [
      "---------------------------- Query 1: Unique Launch Sites ----------------------------\n",
      "              launch_site\n",
      "0  Cape Canaveral, SLC‑40\n",
      "1         Kennedy, LC‑39A\n",
      "2      Vandenberg, SLC‑4E\n",
      "3      Vandenberg, SLC-4E\n",
      "4    Kennedy, LC‑39A[493]\n",
      "\n",
      "---------------------------- Query 2: Launch Sites starting with 'CCA' ----------------------------\n",
      "              launch_site\n",
      "0  Cape Canaveral, SLC‑40\n",
      "\n",
      "---------------------------- Query 3: Total Payload from NASA ----------------------------\n",
      "   total_payload\n",
      "0       104758.0\n"
     ]
    }
   ],
   "source": [
    "print(\"---------------------------- Query 1: Unique Launch Sites ----------------------------\")\n",
    "print(q1)\n",
    "\n",
    "print(\"\\n---------------------------- Query 2: Launch Sites starting with 'CCA' ----------------------------\")\n",
    "print(q2)\n",
    "\n",
    "print(\"\\n---------------------------- Query 3: Total Payload from NASA ----------------------------\")\n",
    "print(q3)"
   ]
  },
  {
   "cell_type": "code",
   "execution_count": 4,
   "id": "3a25c837",
   "metadata": {},
   "outputs": [
    {
     "name": "stdout",
     "output_type": "stream",
     "text": [
      "\n",
      "---------------------------- Query 4: Average Payload for F9 v1.1 ----------------------------\n",
      "    avg_payload\n",
      "0  13702.638298\n",
      "\n",
      "---------------------------- Query 5: First Successful Landing on Ground Pad ----------------------------\n",
      "11 November 2024 17:22[411]\n",
      "\n",
      "---------------------------- Query 6: Boosters landed on Drone Ship with 4000 < Payload < 6000 ----------------------------\n",
      "    version,_booster[h]\n",
      "0         F9 B5 B1077‑2\n",
      "1         F9 B5 B1073‑6\n",
      "2         F9 B5 B1077‑3\n",
      "3         F9 B5 B1076‑4\n",
      "4         F9 B5 B1078‑2\n",
      "5        F9 B5 B1062‑14\n",
      "6   F9 B5 B1067‑12[127]\n",
      "7         F9 B5 B1077‑6\n",
      "8         F9 B5 B1076‑9\n",
      "9        F9 B5 B1076‑12\n",
      "10        F9 B5 B1080‑9\n",
      "11       F9 B5 B1076‑15\n",
      "12       F9 B5 B1073‑19\n",
      "13        F9 B5 B1085‑4\n",
      "14       F9 B5 B1073‑20\n",
      "15        F9 B5 B1092‑4\n"
     ]
    }
   ],
   "source": [
    "print(\"\\n---------------------------- Query 4: Average Payload for F9 v1.1 ----------------------------\")\n",
    "print(q4)\n",
    "\n",
    "print(\"\\n---------------------------- Query 5: First Successful Landing on Ground Pad ----------------------------\")\n",
    "print(q5)\n",
    "\n",
    "print(\"\\n---------------------------- Query 6: Boosters landed on Drone Ship with 4000 < Payload < 6000 ----------------------------\")\n",
    "print(q6)"
   ]
  },
  {
   "cell_type": "code",
   "execution_count": 5,
   "id": "61bd70c5",
   "metadata": {},
   "outputs": [
    {
     "name": "stdout",
     "output_type": "stream",
     "text": [
      "\n",
      "---------------------------- Query 7: Total Successful vs Failed Outcomes ----------------------------\n",
      "  launch_outcome  count\n",
      "0        Failure      1\n",
      "1        Success    312\n",
      "\n",
      "---------------------------- Query 8: Booster with Maximum Payload ----------------------------\n",
      "  version,_booster[h]  max_payload\n",
      "0      F9 B5 B1069‑13      17500.0\n",
      "\n",
      "---------------------------- Query 9: Failed Drone Ship Landings in 2015 ----------------------------\n",
      "Empty DataFrame\n",
      "Columns: [version,_booster[h], launch_site, date_and_time_(utc)]\n",
      "Index: []\n"
     ]
    }
   ],
   "source": [
    "\n",
    "print(\"\\n---------------------------- Query 7: Total Successful vs Failed Outcomes ----------------------------\")\n",
    "print(q7)\n",
    "\n",
    "print(\"\\n---------------------------- Query 8: Booster with Maximum Payload ----------------------------\")\n",
    "print(q8)\n",
    "\n",
    "print(\"\\n---------------------------- Query 9: Failed Drone Ship Landings in 2015 ----------------------------\")\n",
    "print(q9)\n"
   ]
  },
  {
   "cell_type": "code",
   "execution_count": 6,
   "id": "d3ed8605",
   "metadata": {},
   "outputs": [
    {
     "name": "stdout",
     "output_type": "stream",
     "text": [
      "\n",
      "---------------------------- Query 10: Ranked Landing Outcomes between 2010-06-04 and 2017-03-20 ----------------------------\n",
      "Empty DataFrame\n",
      "Columns: [booster_landing, count]\n",
      "Index: []\n"
     ]
    }
   ],
   "source": [
    "print(\"\\n---------------------------- Query 10: Ranked Landing Outcomes between 2010-06-04 and 2017-03-20 ----------------------------\")\n",
    "print(q10)"
   ]
  }
 ],
 "metadata": {
  "kernelspec": {
   "display_name": "Python 3",
   "language": "python",
   "name": "python3"
  },
  "language_info": {
   "codemirror_mode": {
    "name": "ipython",
    "version": 3
   },
   "file_extension": ".py",
   "mimetype": "text/x-python",
   "name": "python",
   "nbconvert_exporter": "python",
   "pygments_lexer": "ipython3",
   "version": "3.12.3"
  }
 },
 "nbformat": 4,
 "nbformat_minor": 5
}
