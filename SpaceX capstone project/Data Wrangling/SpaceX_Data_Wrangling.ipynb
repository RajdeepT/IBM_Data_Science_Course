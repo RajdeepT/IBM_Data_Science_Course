{
 "cells": [
  {
   "cell_type": "markdown",
   "id": "806283c9",
   "metadata": {},
   "source": [
    "\n",
    "# SpaceX Data Wrangling\n",
    "\n",
    "This notebook processes and prepares SpaceX data for analysis and modeling.\n",
    "\n",
    "## Objectives:\n",
    "- Load data from previous steps (API and Web Scraping).\n",
    "- Clean and standardize columns.\n",
    "- Handle missing values and data types.\n",
    "- Merge datasets for unified analysis.\n"
   ]
  },
  {
   "cell_type": "markdown",
   "id": "63cad14e",
   "metadata": {},
   "source": [
    "## Import Required Libraries"
   ]
  },
  {
   "cell_type": "code",
   "execution_count": 12,
   "id": "66ffedff",
   "metadata": {},
   "outputs": [],
   "source": [
    "\n",
    "import pandas as pd\n"
   ]
  },
  {
   "cell_type": "markdown",
   "id": "f1a31236",
   "metadata": {},
   "source": [
    "## Load Datasets from CSV"
   ]
  },
  {
   "cell_type": "code",
   "execution_count": 13,
   "id": "ff9b909a",
   "metadata": {},
   "outputs": [
    {
     "name": "stdout",
     "output_type": "stream",
     "text": [
      "API data shape: (205, 43)\n",
      "Scraped data shape: (642, 10)\n"
     ]
    }
   ],
   "source": [
    "\n",
    "df_api = pd.read_csv(\"spacex_launch_data.csv\")\n",
    "df_scraped = pd.read_csv(\"spacex_wiki_launch_data.csv\")\n",
    "\n",
    "print(\"API data shape:\", df_api.shape)\n",
    "print(\"Scraped data shape:\", df_scraped.shape)\n"
   ]
  },
  {
   "cell_type": "markdown",
   "id": "aa72d1f7",
   "metadata": {},
   "source": [
    "## Data Cleaning and Processing"
   ]
  },
  {
   "cell_type": "code",
   "execution_count": 14,
   "id": "823d1ecc",
   "metadata": {},
   "outputs": [
    {
     "name": "stdout",
     "output_type": "stream",
     "text": [
      "API Cleaned Columns: ['static_fire_date_utc', 'static_fire_date_unix', 'net', 'window', 'rocket', 'success', 'failures', 'details', 'crew', 'ships', 'capsules', 'payloads', 'launchpad', 'flight_number', 'name', 'date_utc', 'date_unix', 'date_local', 'date_precision', 'upcoming', 'cores', 'auto_update', 'tbd', 'launch_library_id', 'id', 'fairings.reused', 'fairings.recovery_attempt', 'fairings.recovered', 'fairings.ships', 'links.patch.small', 'links.patch.large', 'links.reddit.campaign', 'links.reddit.launch', 'links.reddit.media', 'links.reddit.recovery', 'links.flickr.small', 'links.flickr.original', 'links.presskit', 'links.webcast', 'links.youtube_id', 'links.article', 'links.wikipedia']\n",
      "Scraped Cleaned Columns: ['flight_no.', 'date_and_time_(utc)', 'version,_booster[h]', 'launch_site', 'payload[i]', 'payload_mass', 'orbit', 'customer', 'launch_outcome', 'booster_landing']\n"
     ]
    }
   ],
   "source": [
    "# Clean API data\n",
    "df_api_clean = df_api.copy()\n",
    "df_api_clean = df_api_clean.dropna(axis=1, how='all')                         # Drop all-NaN columns\n",
    "df_api_clean = df_api_clean.loc[:, ~df_api_clean.columns.duplicated()]       # Drop duplicate columns\n",
    "\n",
    "# Clean Scraped data\n",
    "df_scraped_clean = df_scraped.copy()\n",
    "df_scraped_clean.columns = [c.lower().strip().replace(\" \", \"_\") for c in df_scraped_clean.columns]\n",
    "df_scraped_clean = df_scraped_clean.dropna(how=\"all\")                        # Drop all-NaN rows\n",
    "df_scraped_clean = df_scraped_clean.loc[:, ~df_scraped_clean.columns.duplicated()]  # Drop duplicate columns\n",
    "\n",
    "# Optionally inspect both cleaned datasets\n",
    "print(\"API Cleaned Columns:\", df_api_clean.columns.tolist())\n",
    "print(\"Scraped Cleaned Columns:\", df_scraped_clean.columns.tolist())\n"
   ]
  },
  {
   "cell_type": "markdown",
   "id": "f2886a26",
   "metadata": {},
   "source": [
    "## Save Final Dataset"
   ]
  },
  {
   "cell_type": "code",
   "execution_count": 15,
   "id": "bb16914d",
   "metadata": {},
   "outputs": [
    {
     "name": "stdout",
     "output_type": "stream",
     "text": [
      "Final cleaned scraped data saved to 'spacex_clean_data.csv'\n"
     ]
    },
    {
     "data": {
      "text/html": [
       "<div>\n",
       "<style scoped>\n",
       "    .dataframe tbody tr th:only-of-type {\n",
       "        vertical-align: middle;\n",
       "    }\n",
       "\n",
       "    .dataframe tbody tr th {\n",
       "        vertical-align: top;\n",
       "    }\n",
       "\n",
       "    .dataframe thead th {\n",
       "        text-align: right;\n",
       "    }\n",
       "</style>\n",
       "<table border=\"1\" class=\"dataframe\">\n",
       "  <thead>\n",
       "    <tr style=\"text-align: right;\">\n",
       "      <th></th>\n",
       "      <th>flight_no.</th>\n",
       "      <th>date_and_time_(utc)</th>\n",
       "      <th>version,_booster[h]</th>\n",
       "      <th>launch_site</th>\n",
       "      <th>payload[i]</th>\n",
       "      <th>payload_mass</th>\n",
       "      <th>orbit</th>\n",
       "      <th>customer</th>\n",
       "      <th>launch_outcome</th>\n",
       "      <th>booster_landing</th>\n",
       "    </tr>\n",
       "  </thead>\n",
       "  <tbody>\n",
       "    <tr>\n",
       "      <th>0</th>\n",
       "      <td>195</td>\n",
       "      <td>January 3, 2023 14:56[17]</td>\n",
       "      <td>F9 B5 B1060‑15</td>\n",
       "      <td>Cape Canaveral, SLC‑40</td>\n",
       "      <td>Transporter-6 (115 payload smallsat rideshare)</td>\n",
       "      <td>Unknown[j]</td>\n",
       "      <td>SSO</td>\n",
       "      <td>Various</td>\n",
       "      <td>Success</td>\n",
       "      <td>Success (LZ‑1)</td>\n",
       "    </tr>\n",
       "    <tr>\n",
       "      <th>1</th>\n",
       "      <td>195</td>\n",
       "      <td>Dedicated SmallSat Rideshare mission to Sun-sy...</td>\n",
       "      <td>Dedicated SmallSat Rideshare mission to Sun-sy...</td>\n",
       "      <td>Dedicated SmallSat Rideshare mission to Sun-sy...</td>\n",
       "      <td>Dedicated SmallSat Rideshare mission to Sun-sy...</td>\n",
       "      <td>Dedicated SmallSat Rideshare mission to Sun-sy...</td>\n",
       "      <td>Dedicated SmallSat Rideshare mission to Sun-sy...</td>\n",
       "      <td>Dedicated SmallSat Rideshare mission to Sun-sy...</td>\n",
       "      <td>Dedicated SmallSat Rideshare mission to Sun-sy...</td>\n",
       "      <td>Dedicated SmallSat Rideshare mission to Sun-sy...</td>\n",
       "    </tr>\n",
       "    <tr>\n",
       "      <th>2</th>\n",
       "      <td>196</td>\n",
       "      <td>January 10, 2023 04:50[23]</td>\n",
       "      <td>F9 B5 B1076‑2</td>\n",
       "      <td>Cape Canaveral, SLC‑40</td>\n",
       "      <td>OneWeb 16 (40 satellites)</td>\n",
       "      <td>6,000 kg (13,000 lb)</td>\n",
       "      <td>Polar LEO</td>\n",
       "      <td>OneWeb</td>\n",
       "      <td>Success</td>\n",
       "      <td>Success (LZ‑1)</td>\n",
       "    </tr>\n",
       "    <tr>\n",
       "      <th>3</th>\n",
       "      <td>196</td>\n",
       "      <td>Following the Russian invasion of Ukraine, One...</td>\n",
       "      <td>Following the Russian invasion of Ukraine, One...</td>\n",
       "      <td>Following the Russian invasion of Ukraine, One...</td>\n",
       "      <td>Following the Russian invasion of Ukraine, One...</td>\n",
       "      <td>Following the Russian invasion of Ukraine, One...</td>\n",
       "      <td>Following the Russian invasion of Ukraine, One...</td>\n",
       "      <td>Following the Russian invasion of Ukraine, One...</td>\n",
       "      <td>Following the Russian invasion of Ukraine, One...</td>\n",
       "      <td>Following the Russian invasion of Ukraine, One...</td>\n",
       "    </tr>\n",
       "    <tr>\n",
       "      <th>4</th>\n",
       "      <td>FH 5</td>\n",
       "      <td>January 15, 2023 22:56[29]</td>\n",
       "      <td>Falcon Heavy B5 B1070 (core)</td>\n",
       "      <td>Kennedy, LC‑39A</td>\n",
       "      <td>USSF-67 (CBAS-2 &amp; LDPE-3A)</td>\n",
       "      <td>~3,750 kg (8,270 lb)</td>\n",
       "      <td>GEO</td>\n",
       "      <td>USSF</td>\n",
       "      <td>Success</td>\n",
       "      <td>No attempt</td>\n",
       "    </tr>\n",
       "  </tbody>\n",
       "</table>\n",
       "</div>"
      ],
      "text/plain": [
       "  flight_no.                                date_and_time_(utc)  \\\n",
       "0        195                          January 3, 2023 14:56[17]   \n",
       "1        195  Dedicated SmallSat Rideshare mission to Sun-sy...   \n",
       "2        196                         January 10, 2023 04:50[23]   \n",
       "3        196  Following the Russian invasion of Ukraine, One...   \n",
       "4       FH 5                         January 15, 2023 22:56[29]   \n",
       "\n",
       "                                 version,_booster[h]  \\\n",
       "0                                     F9 B5 B1060‑15   \n",
       "1  Dedicated SmallSat Rideshare mission to Sun-sy...   \n",
       "2                                      F9 B5 B1076‑2   \n",
       "3  Following the Russian invasion of Ukraine, One...   \n",
       "4                       Falcon Heavy B5 B1070 (core)   \n",
       "\n",
       "                                         launch_site  \\\n",
       "0                             Cape Canaveral, SLC‑40   \n",
       "1  Dedicated SmallSat Rideshare mission to Sun-sy...   \n",
       "2                             Cape Canaveral, SLC‑40   \n",
       "3  Following the Russian invasion of Ukraine, One...   \n",
       "4                                    Kennedy, LC‑39A   \n",
       "\n",
       "                                          payload[i]  \\\n",
       "0     Transporter-6 (115 payload smallsat rideshare)   \n",
       "1  Dedicated SmallSat Rideshare mission to Sun-sy...   \n",
       "2                          OneWeb 16 (40 satellites)   \n",
       "3  Following the Russian invasion of Ukraine, One...   \n",
       "4                         USSF-67 (CBAS-2 & LDPE-3A)   \n",
       "\n",
       "                                        payload_mass  \\\n",
       "0                                         Unknown[j]   \n",
       "1  Dedicated SmallSat Rideshare mission to Sun-sy...   \n",
       "2                               6,000 kg (13,000 lb)   \n",
       "3  Following the Russian invasion of Ukraine, One...   \n",
       "4                               ~3,750 kg (8,270 lb)   \n",
       "\n",
       "                                               orbit  \\\n",
       "0                                                SSO   \n",
       "1  Dedicated SmallSat Rideshare mission to Sun-sy...   \n",
       "2                                          Polar LEO   \n",
       "3  Following the Russian invasion of Ukraine, One...   \n",
       "4                                                GEO   \n",
       "\n",
       "                                            customer  \\\n",
       "0                                            Various   \n",
       "1  Dedicated SmallSat Rideshare mission to Sun-sy...   \n",
       "2                                             OneWeb   \n",
       "3  Following the Russian invasion of Ukraine, One...   \n",
       "4                                               USSF   \n",
       "\n",
       "                                      launch_outcome  \\\n",
       "0                                            Success   \n",
       "1  Dedicated SmallSat Rideshare mission to Sun-sy...   \n",
       "2                                            Success   \n",
       "3  Following the Russian invasion of Ukraine, One...   \n",
       "4                                            Success   \n",
       "\n",
       "                                     booster_landing  \n",
       "0                                     Success (LZ‑1)  \n",
       "1  Dedicated SmallSat Rideshare mission to Sun-sy...  \n",
       "2                                     Success (LZ‑1)  \n",
       "3  Following the Russian invasion of Ukraine, One...  \n",
       "4                                         No attempt  "
      ]
     },
     "execution_count": 15,
     "metadata": {},
     "output_type": "execute_result"
    }
   ],
   "source": [
    "# Save only cleaned SCRAPED data\n",
    "df_scraped_clean.to_csv(\"spacex_clean_data.csv\", index=False)\n",
    "print(\"Final cleaned scraped data saved to 'spacex_clean_data.csv'\")\n",
    "\n",
    "# Preview\n",
    "df_scraped_clean.head()"
   ]
  },
  {
   "cell_type": "code",
   "execution_count": null,
   "id": "00ef5a78",
   "metadata": {},
   "outputs": [],
   "source": []
  }
 ],
 "metadata": {
  "kernelspec": {
   "display_name": "Python 3",
   "language": "python",
   "name": "python3"
  },
  "language_info": {
   "codemirror_mode": {
    "name": "ipython",
    "version": 3
   },
   "file_extension": ".py",
   "mimetype": "text/x-python",
   "name": "python",
   "nbconvert_exporter": "python",
   "pygments_lexer": "ipython3",
   "version": "3.12.3"
  }
 },
 "nbformat": 4,
 "nbformat_minor": 5
}
