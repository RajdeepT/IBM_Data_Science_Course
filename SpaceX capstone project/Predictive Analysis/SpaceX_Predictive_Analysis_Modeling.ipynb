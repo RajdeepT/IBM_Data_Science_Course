{
 "cells": [
  {
   "cell_type": "markdown",
   "id": "a9e21bec",
   "metadata": {},
   "source": [
    "Step 1: Import Required Libraries and Load Data"
   ]
  },
  {
   "cell_type": "code",
   "execution_count": 19,
   "id": "396540af",
   "metadata": {},
   "outputs": [
    {
     "data": {
      "text/html": [
       "<div>\n",
       "<style scoped>\n",
       "    .dataframe tbody tr th:only-of-type {\n",
       "        vertical-align: middle;\n",
       "    }\n",
       "\n",
       "    .dataframe tbody tr th {\n",
       "        vertical-align: top;\n",
       "    }\n",
       "\n",
       "    .dataframe thead th {\n",
       "        text-align: right;\n",
       "    }\n",
       "</style>\n",
       "<table border=\"1\" class=\"dataframe\">\n",
       "  <thead>\n",
       "    <tr style=\"text-align: right;\">\n",
       "      <th></th>\n",
       "      <th>flight_no.</th>\n",
       "      <th>date_and_time_(utc)</th>\n",
       "      <th>version,_booster[h]</th>\n",
       "      <th>launch_site</th>\n",
       "      <th>payload[i]</th>\n",
       "      <th>payload_mass</th>\n",
       "      <th>orbit</th>\n",
       "      <th>customer</th>\n",
       "      <th>launch_outcome</th>\n",
       "      <th>booster_landing</th>\n",
       "    </tr>\n",
       "  </thead>\n",
       "  <tbody>\n",
       "    <tr>\n",
       "      <th>0</th>\n",
       "      <td>195</td>\n",
       "      <td>January 3, 2023 14:56[17]</td>\n",
       "      <td>F9 B5 B1060‑15</td>\n",
       "      <td>Cape Canaveral, SLC‑40</td>\n",
       "      <td>Transporter-6 (115 payload smallsat rideshare)</td>\n",
       "      <td>Unknown[j]</td>\n",
       "      <td>SSO</td>\n",
       "      <td>Various</td>\n",
       "      <td>Success</td>\n",
       "      <td>Success (LZ‑1)</td>\n",
       "    </tr>\n",
       "    <tr>\n",
       "      <th>1</th>\n",
       "      <td>195</td>\n",
       "      <td>Dedicated SmallSat Rideshare mission to Sun-sy...</td>\n",
       "      <td>Dedicated SmallSat Rideshare mission to Sun-sy...</td>\n",
       "      <td>Dedicated SmallSat Rideshare mission to Sun-sy...</td>\n",
       "      <td>Dedicated SmallSat Rideshare mission to Sun-sy...</td>\n",
       "      <td>Dedicated SmallSat Rideshare mission to Sun-sy...</td>\n",
       "      <td>Dedicated SmallSat Rideshare mission to Sun-sy...</td>\n",
       "      <td>Dedicated SmallSat Rideshare mission to Sun-sy...</td>\n",
       "      <td>Dedicated SmallSat Rideshare mission to Sun-sy...</td>\n",
       "      <td>Dedicated SmallSat Rideshare mission to Sun-sy...</td>\n",
       "    </tr>\n",
       "    <tr>\n",
       "      <th>2</th>\n",
       "      <td>196</td>\n",
       "      <td>January 10, 2023 04:50[23]</td>\n",
       "      <td>F9 B5 B1076‑2</td>\n",
       "      <td>Cape Canaveral, SLC‑40</td>\n",
       "      <td>OneWeb 16 (40 satellites)</td>\n",
       "      <td>6,000 kg (13,000 lb)</td>\n",
       "      <td>Polar LEO</td>\n",
       "      <td>OneWeb</td>\n",
       "      <td>Success</td>\n",
       "      <td>Success (LZ‑1)</td>\n",
       "    </tr>\n",
       "    <tr>\n",
       "      <th>3</th>\n",
       "      <td>196</td>\n",
       "      <td>Following the Russian invasion of Ukraine, One...</td>\n",
       "      <td>Following the Russian invasion of Ukraine, One...</td>\n",
       "      <td>Following the Russian invasion of Ukraine, One...</td>\n",
       "      <td>Following the Russian invasion of Ukraine, One...</td>\n",
       "      <td>Following the Russian invasion of Ukraine, One...</td>\n",
       "      <td>Following the Russian invasion of Ukraine, One...</td>\n",
       "      <td>Following the Russian invasion of Ukraine, One...</td>\n",
       "      <td>Following the Russian invasion of Ukraine, One...</td>\n",
       "      <td>Following the Russian invasion of Ukraine, One...</td>\n",
       "    </tr>\n",
       "    <tr>\n",
       "      <th>4</th>\n",
       "      <td>FH 5</td>\n",
       "      <td>January 15, 2023 22:56[29]</td>\n",
       "      <td>Falcon Heavy B5 B1070 (core)</td>\n",
       "      <td>Kennedy, LC‑39A</td>\n",
       "      <td>USSF-67 (CBAS-2 &amp; LDPE-3A)</td>\n",
       "      <td>~3,750 kg (8,270 lb)</td>\n",
       "      <td>GEO</td>\n",
       "      <td>USSF</td>\n",
       "      <td>Success</td>\n",
       "      <td>No attempt</td>\n",
       "    </tr>\n",
       "  </tbody>\n",
       "</table>\n",
       "</div>"
      ],
      "text/plain": [
       "  flight_no.                                date_and_time_(utc)  \\\n",
       "0        195                          January 3, 2023 14:56[17]   \n",
       "1        195  Dedicated SmallSat Rideshare mission to Sun-sy...   \n",
       "2        196                         January 10, 2023 04:50[23]   \n",
       "3        196  Following the Russian invasion of Ukraine, One...   \n",
       "4       FH 5                         January 15, 2023 22:56[29]   \n",
       "\n",
       "                                 version,_booster[h]  \\\n",
       "0                                     F9 B5 B1060‑15   \n",
       "1  Dedicated SmallSat Rideshare mission to Sun-sy...   \n",
       "2                                      F9 B5 B1076‑2   \n",
       "3  Following the Russian invasion of Ukraine, One...   \n",
       "4                       Falcon Heavy B5 B1070 (core)   \n",
       "\n",
       "                                         launch_site  \\\n",
       "0                             Cape Canaveral, SLC‑40   \n",
       "1  Dedicated SmallSat Rideshare mission to Sun-sy...   \n",
       "2                             Cape Canaveral, SLC‑40   \n",
       "3  Following the Russian invasion of Ukraine, One...   \n",
       "4                                    Kennedy, LC‑39A   \n",
       "\n",
       "                                          payload[i]  \\\n",
       "0     Transporter-6 (115 payload smallsat rideshare)   \n",
       "1  Dedicated SmallSat Rideshare mission to Sun-sy...   \n",
       "2                          OneWeb 16 (40 satellites)   \n",
       "3  Following the Russian invasion of Ukraine, One...   \n",
       "4                         USSF-67 (CBAS-2 & LDPE-3A)   \n",
       "\n",
       "                                        payload_mass  \\\n",
       "0                                         Unknown[j]   \n",
       "1  Dedicated SmallSat Rideshare mission to Sun-sy...   \n",
       "2                               6,000 kg (13,000 lb)   \n",
       "3  Following the Russian invasion of Ukraine, One...   \n",
       "4                               ~3,750 kg (8,270 lb)   \n",
       "\n",
       "                                               orbit  \\\n",
       "0                                                SSO   \n",
       "1  Dedicated SmallSat Rideshare mission to Sun-sy...   \n",
       "2                                          Polar LEO   \n",
       "3  Following the Russian invasion of Ukraine, One...   \n",
       "4                                                GEO   \n",
       "\n",
       "                                            customer  \\\n",
       "0                                            Various   \n",
       "1  Dedicated SmallSat Rideshare mission to Sun-sy...   \n",
       "2                                             OneWeb   \n",
       "3  Following the Russian invasion of Ukraine, One...   \n",
       "4                                               USSF   \n",
       "\n",
       "                                      launch_outcome  \\\n",
       "0                                            Success   \n",
       "1  Dedicated SmallSat Rideshare mission to Sun-sy...   \n",
       "2                                            Success   \n",
       "3  Following the Russian invasion of Ukraine, One...   \n",
       "4                                            Success   \n",
       "\n",
       "                                     booster_landing  \n",
       "0                                     Success (LZ‑1)  \n",
       "1  Dedicated SmallSat Rideshare mission to Sun-sy...  \n",
       "2                                     Success (LZ‑1)  \n",
       "3  Following the Russian invasion of Ukraine, One...  \n",
       "4                                         No attempt  "
      ]
     },
     "execution_count": 19,
     "metadata": {},
     "output_type": "execute_result"
    }
   ],
   "source": [
    "import pandas as pd\n",
    "import numpy as np\n",
    "import matplotlib.pyplot as plt\n",
    "import seaborn as sns\n",
    "\n",
    "from sklearn.model_selection import train_test_split\n",
    "from sklearn.preprocessing import StandardScaler\n",
    "from sklearn.metrics import accuracy_score, confusion_matrix, classification_report\n",
    "from sklearn.linear_model import LogisticRegression\n",
    "from sklearn.tree import DecisionTreeClassifier\n",
    "from sklearn.svm import SVC\n",
    "from sklearn.ensemble import RandomForestClassifier\n",
    "import re\n",
    "from sklearn.utils import resample\n",
    "\n",
    "# Load the cleaned SpaceX dataset\n",
    "df = pd.read_csv(\"spacex_clean_data.csv\")\n",
    "df.head()"
   ]
  },
  {
   "cell_type": "markdown",
   "id": "d34730b6",
   "metadata": {},
   "source": [
    "## Step 2: Data Preprocessing"
   ]
  },
  {
   "cell_type": "code",
   "execution_count": 20,
   "id": "6c0fef4a",
   "metadata": {},
   "outputs": [
    {
     "name": "stdout",
     "output_type": "stream",
     "text": [
      "Train set class distribution:\n",
      "success\n",
      "1.0    213\n",
      "0.0    212\n",
      "Name: count, dtype: int64\n",
      "\n",
      "Test set class distribution:\n",
      "success\n",
      "0.0    92\n",
      "1.0    91\n",
      "Name: count, dtype: int64\n"
     ]
    }
   ],
   "source": [
    "# Step 1: Convert and clean payload mass\n",
    "def extract_kg(payload):\n",
    "    match = re.search(r\"([\\d,]+)\\s*kg\", str(payload))\n",
    "    if match:\n",
    "        return float(match.group(1).replace(',', ''))\n",
    "    return None\n",
    "\n",
    "df['payload_mass_kg'] = df['payload_mass'].apply(extract_kg)\n",
    "\n",
    "# Step 2: Convert launch outcome to binary success\n",
    "df['success'] = df['launch_outcome'].map({'Success': 1, 'Failure': 0})\n",
    "\n",
    "# Step 3: Select and clean required columns\n",
    "df_model = df[['payload_mass_kg', 'success', 'launch_site', 'version,_booster[h]']].copy()\n",
    "df_model.dropna(inplace=True)\n",
    "\n",
    "# Step 4: One-hot encode categorical variables\n",
    "df_model = pd.get_dummies(df_model, columns=['launch_site', 'version,_booster[h]'], drop_first=True)\n",
    "\n",
    "# Step 5: Separate majority and minority classes\n",
    "df_majority = df_model[df_model['success'] == 1]\n",
    "df_minority = df_model[df_model['success'] == 0]\n",
    "\n",
    "# Step 6: Oversample minority class\n",
    "df_minority_upsampled = resample(df_minority,replace=True,n_samples=len(df_majority),random_state=42)     \n",
    "\n",
    "# Step 7: Combine majority and upsampled minority\n",
    "df_balanced = pd.concat([df_majority, df_minority_upsampled])\n",
    "\n",
    "# Step 8: Split into features and labels\n",
    "X = df_balanced.drop('success', axis=1)\n",
    "y = df_balanced['success']\n",
    "\n",
    "# Step 9: Scale features\n",
    "scaler = StandardScaler()\n",
    "X_scaled = scaler.fit_transform(X)\n",
    "\n",
    "# Step 10: Train-test split\n",
    "X_train, X_test, y_train, y_test = train_test_split(\n",
    "    X_scaled, y, test_size=0.3, random_state=42, stratify=y)\n",
    "\n",
    "# Step 11: Print class distributions\n",
    "print(\"Train set class distribution:\")\n",
    "print(y_train.value_counts())\n",
    "print(\"\\nTest set class distribution:\")\n",
    "print(y_test.value_counts())\n"
   ]
  },
  {
   "cell_type": "markdown",
   "id": "0f467035",
   "metadata": {},
   "source": [
    "## Step 3: Train and Evaluate Multiple Models"
   ]
  },
  {
   "cell_type": "code",
   "execution_count": 21,
   "id": "0be34304",
   "metadata": {},
   "outputs": [
    {
     "name": "stdout",
     "output_type": "stream",
     "text": [
      "\n",
      "Logistic Regression Accuracy: 0.8962\n",
      "              precision    recall  f1-score   support\n",
      "\n",
      "         0.0       0.83      1.00      0.91        92\n",
      "         1.0       1.00      0.79      0.88        91\n",
      "\n",
      "    accuracy                           0.90       183\n",
      "   macro avg       0.91      0.90      0.89       183\n",
      "weighted avg       0.91      0.90      0.89       183\n",
      "\n",
      "\n",
      "Decision Tree Accuracy: 1.0000\n",
      "              precision    recall  f1-score   support\n",
      "\n",
      "         0.0       1.00      1.00      1.00        92\n",
      "         1.0       1.00      1.00      1.00        91\n",
      "\n",
      "    accuracy                           1.00       183\n",
      "   macro avg       1.00      1.00      1.00       183\n",
      "weighted avg       1.00      1.00      1.00       183\n",
      "\n",
      "\n",
      "Support Vector Machine Accuracy: 1.0000\n",
      "              precision    recall  f1-score   support\n",
      "\n",
      "         0.0       1.00      1.00      1.00        92\n",
      "         1.0       1.00      1.00      1.00        91\n",
      "\n",
      "    accuracy                           1.00       183\n",
      "   macro avg       1.00      1.00      1.00       183\n",
      "weighted avg       1.00      1.00      1.00       183\n",
      "\n",
      "\n",
      "Random Forest Accuracy: 1.0000\n",
      "              precision    recall  f1-score   support\n",
      "\n",
      "         0.0       1.00      1.00      1.00        92\n",
      "         1.0       1.00      1.00      1.00        91\n",
      "\n",
      "    accuracy                           1.00       183\n",
      "   macro avg       1.00      1.00      1.00       183\n",
      "weighted avg       1.00      1.00      1.00       183\n",
      "\n"
     ]
    }
   ],
   "source": [
    "models = {\n",
    "    \"Logistic Regression\": LogisticRegression(),\n",
    "    \"Decision Tree\": DecisionTreeClassifier(),\n",
    "    \"Support Vector Machine\": SVC(),\n",
    "    \"Random Forest\": RandomForestClassifier()\n",
    "}\n",
    "\n",
    "results = {}\n",
    "conf_matrices = {}\n",
    "\n",
    "for name, model in models.items():\n",
    "    model.fit(X_train, y_train)\n",
    "    y_pred = model.predict(X_test)\n",
    "    acc = accuracy_score(y_test, y_pred)\n",
    "    cm = confusion_matrix(y_test, y_pred)\n",
    "    results[name] = acc\n",
    "    conf_matrices[name] = cm\n",
    "    print(f\"\\n{name} Accuracy: {acc:.4f}\")\n",
    "    print(classification_report(y_test, y_pred))\n"
   ]
  },
  {
   "cell_type": "markdown",
   "id": "efbaa40e",
   "metadata": {},
   "source": [
    "## Step 4: Plot Model Accuracy Comparison"
   ]
  },
  {
   "cell_type": "code",
   "execution_count": 22,
   "id": "9d0c5062",
   "metadata": {},
   "outputs": [
    {
     "data": {
      "image/png": "[encoded data removed]",
      "text/plain": [
       "<Figure size 800x500 with 1 Axes>"
      ]
     },
     "metadata": {},
     "output_type": "display_data"
    }
   ],
   "source": [
    "plt.figure(figsize=(8,5))\n",
    "sns.barplot(x=list(results.keys()), y=list(results.values()))\n",
    "plt.ylabel(\"Accuracy\")\n",
    "plt.title(\"Model Accuracy Comparison\")\n",
    "plt.ylim(0, 1)\n",
    "plt.xticks(rotation=15)\n",
    "plt.show()\n"
   ]
  },
  {
   "cell_type": "markdown",
   "id": "d5c6fce5",
   "metadata": {},
   "source": [
    "## Step 5: Show Confusion Matrix for Best Model"
   ]
  },
  {
   "cell_type": "code",
   "execution_count": 23,
   "id": "75dd0375",
   "metadata": {},
   "outputs": [
    {
     "name": "stdout",
     "output_type": "stream",
     "text": [
      "Best Model: Decision Tree\n"
     ]
    },
    {
     "data": {
      "image/png": "[encoded data removed]",
      "text/plain": [
       "<Figure size 640x480 with 2 Axes>"
      ]
     },
     "metadata": {},
     "output_type": "display_data"
    }
   ],
   "source": [
    "best_model = max(results, key=results.get)\n",
    "print(f\"Best Model: {best_model}\")\n",
    "sns.heatmap(conf_matrices[best_model], annot=True, fmt='d', cmap='Blues')\n",
    "plt.title(f\"Confusion Matrix: {best_model}\")\n",
    "plt.xlabel(\"Predicted\")\n",
    "plt.ylabel(\"Actual\")\n",
    "plt.show()\n"
   ]
  }
 ],
 "metadata": {
  "kernelspec": {
   "display_name": "Python 3",
   "language": "python",
   "name": "python3"
  },
  "language_info": {
   "codemirror_mode": {
    "name": "ipython",
    "version": 3
   },
   "file_extension": ".py",
   "mimetype": "text/x-python",
   "name": "python",
   "nbconvert_exporter": "python",
   "pygments_lexer": "ipython3",
   "version": "3.12.3"
  }
 },
 "nbformat": 4,
 "nbformat_minor": 5
}
