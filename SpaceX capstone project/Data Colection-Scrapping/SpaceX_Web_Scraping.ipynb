{
 "cells": [
  {
   "cell_type": "markdown",
   "id": "0de1688a",
   "metadata": {},
   "source": [
    "\n",
    "# SpaceX Web Scraping\n",
    "\n",
    "In this notebook, we will scrape additional data that may not be available in the SpaceX API. The scraped data will help enrich our dataset for better analysis and model building.\n",
    "\n",
    "## Objectives:\n",
    "- Scrape SpaceX launch table data from a reliable source.\n",
    "- Parse and structure the data using BeautifulSoup.\n",
    "- Store the final result as a CSV for further analysis.\n"
   ]
  },
  {
   "cell_type": "markdown",
   "id": "a2a5053c",
   "metadata": {},
   "source": [
    "## Import Required Libraries"
   ]
  },
  {
   "cell_type": "code",
   "execution_count": 1,
   "id": "d2695aa1",
   "metadata": {},
   "outputs": [],
   "source": [
    "\n",
    "import requests\n",
    "import pandas as pd\n",
    "from bs4 import BeautifulSoup\n"
   ]
  },
  {
   "cell_type": "markdown",
   "id": "c001506f",
   "metadata": {},
   "source": [
    "\n",
    "## Perform Web Scraping\n",
    "\n",
    "We will scrape SpaceX historical launch data from Wikipedia.\n"
   ]
  },
  {
   "cell_type": "code",
   "execution_count": 2,
   "id": "4e409f61",
   "metadata": {},
   "outputs": [
    {
     "name": "stdout",
     "output_type": "stream",
     "text": [
      "Found 6 tables\n"
     ]
    },
    {
     "name": "stderr",
     "output_type": "stream",
     "text": [
      "C:\\Users\\KIIT\\AppData\\Local\\Temp\\ipykernel_16668\\1883826634.py:10: FutureWarning: Passing literal html to 'read_html' is deprecated and will be removed in a future version. To read from a literal string, wrap it in a 'StringIO' object.\n",
      "  dfs = pd.read_html(str(tables[0:3]))  # Adjust slice to desired number of tables\n"
     ]
    },
    {
     "data": {
      "text/html": [
       "<div>\n",
       "<style scoped>\n",
       "    .dataframe tbody tr th:only-of-type {\n",
       "        vertical-align: middle;\n",
       "    }\n",
       "\n",
       "    .dataframe tbody tr th {\n",
       "        vertical-align: top;\n",
       "    }\n",
       "\n",
       "    .dataframe thead th {\n",
       "        text-align: right;\n",
       "    }\n",
       "</style>\n",
       "<table border=\"1\" class=\"dataframe\">\n",
       "  <thead>\n",
       "    <tr style=\"text-align: right;\">\n",
       "      <th></th>\n",
       "      <th>Flight No.</th>\n",
       "      <th>Date and time (UTC)</th>\n",
       "      <th>Version, booster[h]</th>\n",
       "      <th>Launch site</th>\n",
       "      <th>Payload[i]</th>\n",
       "      <th>Payload mass</th>\n",
       "      <th>Orbit</th>\n",
       "      <th>Customer</th>\n",
       "      <th>Launch outcome</th>\n",
       "      <th>Booster landing</th>\n",
       "    </tr>\n",
       "  </thead>\n",
       "  <tbody>\n",
       "    <tr>\n",
       "      <th>0</th>\n",
       "      <td>195</td>\n",
       "      <td>January 3, 2023 14:56[17]</td>\n",
       "      <td>F9 B5 B1060‑15</td>\n",
       "      <td>Cape Canaveral, SLC‑40</td>\n",
       "      <td>Transporter-6 (115 payload smallsat rideshare)</td>\n",
       "      <td>Unknown[j]</td>\n",
       "      <td>SSO</td>\n",
       "      <td>Various</td>\n",
       "      <td>Success</td>\n",
       "      <td>Success (LZ‑1)</td>\n",
       "    </tr>\n",
       "    <tr>\n",
       "      <th>1</th>\n",
       "      <td>195</td>\n",
       "      <td>Dedicated SmallSat Rideshare mission to Sun-sy...</td>\n",
       "      <td>Dedicated SmallSat Rideshare mission to Sun-sy...</td>\n",
       "      <td>Dedicated SmallSat Rideshare mission to Sun-sy...</td>\n",
       "      <td>Dedicated SmallSat Rideshare mission to Sun-sy...</td>\n",
       "      <td>Dedicated SmallSat Rideshare mission to Sun-sy...</td>\n",
       "      <td>Dedicated SmallSat Rideshare mission to Sun-sy...</td>\n",
       "      <td>Dedicated SmallSat Rideshare mission to Sun-sy...</td>\n",
       "      <td>Dedicated SmallSat Rideshare mission to Sun-sy...</td>\n",
       "      <td>Dedicated SmallSat Rideshare mission to Sun-sy...</td>\n",
       "    </tr>\n",
       "    <tr>\n",
       "      <th>2</th>\n",
       "      <td>196</td>\n",
       "      <td>January 10, 2023 04:50[23]</td>\n",
       "      <td>F9 B5 B1076‑2</td>\n",
       "      <td>Cape Canaveral, SLC‑40</td>\n",
       "      <td>OneWeb 16 (40 satellites)</td>\n",
       "      <td>6,000 kg (13,000 lb)</td>\n",
       "      <td>Polar LEO</td>\n",
       "      <td>OneWeb</td>\n",
       "      <td>Success</td>\n",
       "      <td>Success (LZ‑1)</td>\n",
       "    </tr>\n",
       "    <tr>\n",
       "      <th>3</th>\n",
       "      <td>196</td>\n",
       "      <td>Following the Russian invasion of Ukraine, One...</td>\n",
       "      <td>Following the Russian invasion of Ukraine, One...</td>\n",
       "      <td>Following the Russian invasion of Ukraine, One...</td>\n",
       "      <td>Following the Russian invasion of Ukraine, One...</td>\n",
       "      <td>Following the Russian invasion of Ukraine, One...</td>\n",
       "      <td>Following the Russian invasion of Ukraine, One...</td>\n",
       "      <td>Following the Russian invasion of Ukraine, One...</td>\n",
       "      <td>Following the Russian invasion of Ukraine, One...</td>\n",
       "      <td>Following the Russian invasion of Ukraine, One...</td>\n",
       "    </tr>\n",
       "    <tr>\n",
       "      <th>4</th>\n",
       "      <td>FH 5</td>\n",
       "      <td>January 15, 2023 22:56[29]</td>\n",
       "      <td>Falcon Heavy B5 B1070 (core)</td>\n",
       "      <td>Kennedy, LC‑39A</td>\n",
       "      <td>USSF-67 (CBAS-2 &amp; LDPE-3A)</td>\n",
       "      <td>~3,750 kg (8,270 lb)</td>\n",
       "      <td>GEO</td>\n",
       "      <td>USSF</td>\n",
       "      <td>Success</td>\n",
       "      <td>No attempt</td>\n",
       "    </tr>\n",
       "  </tbody>\n",
       "</table>\n",
       "</div>"
      ],
      "text/plain": [
       "  Flight No.                                Date and time (UTC)  \\\n",
       "0        195                          January 3, 2023 14:56[17]   \n",
       "1        195  Dedicated SmallSat Rideshare mission to Sun-sy...   \n",
       "2        196                         January 10, 2023 04:50[23]   \n",
       "3        196  Following the Russian invasion of Ukraine, One...   \n",
       "4       FH 5                         January 15, 2023 22:56[29]   \n",
       "\n",
       "                                 Version, booster[h]  \\\n",
       "0                                     F9 B5 B1060‑15   \n",
       "1  Dedicated SmallSat Rideshare mission to Sun-sy...   \n",
       "2                                      F9 B5 B1076‑2   \n",
       "3  Following the Russian invasion of Ukraine, One...   \n",
       "4                       Falcon Heavy B5 B1070 (core)   \n",
       "\n",
       "                                         Launch site  \\\n",
       "0                             Cape Canaveral, SLC‑40   \n",
       "1  Dedicated SmallSat Rideshare mission to Sun-sy...   \n",
       "2                             Cape Canaveral, SLC‑40   \n",
       "3  Following the Russian invasion of Ukraine, One...   \n",
       "4                                    Kennedy, LC‑39A   \n",
       "\n",
       "                                          Payload[i]  \\\n",
       "0     Transporter-6 (115 payload smallsat rideshare)   \n",
       "1  Dedicated SmallSat Rideshare mission to Sun-sy...   \n",
       "2                          OneWeb 16 (40 satellites)   \n",
       "3  Following the Russian invasion of Ukraine, One...   \n",
       "4                         USSF-67 (CBAS-2 & LDPE-3A)   \n",
       "\n",
       "                                        Payload mass  \\\n",
       "0                                         Unknown[j]   \n",
       "1  Dedicated SmallSat Rideshare mission to Sun-sy...   \n",
       "2                               6,000 kg (13,000 lb)   \n",
       "3  Following the Russian invasion of Ukraine, One...   \n",
       "4                               ~3,750 kg (8,270 lb)   \n",
       "\n",
       "                                               Orbit  \\\n",
       "0                                                SSO   \n",
       "1  Dedicated SmallSat Rideshare mission to Sun-sy...   \n",
       "2                                          Polar LEO   \n",
       "3  Following the Russian invasion of Ukraine, One...   \n",
       "4                                                GEO   \n",
       "\n",
       "                                            Customer  \\\n",
       "0                                            Various   \n",
       "1  Dedicated SmallSat Rideshare mission to Sun-sy...   \n",
       "2                                             OneWeb   \n",
       "3  Following the Russian invasion of Ukraine, One...   \n",
       "4                                               USSF   \n",
       "\n",
       "                                      Launch outcome  \\\n",
       "0                                            Success   \n",
       "1  Dedicated SmallSat Rideshare mission to Sun-sy...   \n",
       "2                                            Success   \n",
       "3  Following the Russian invasion of Ukraine, One...   \n",
       "4                                            Success   \n",
       "\n",
       "                                     Booster landing  \n",
       "0                                     Success (LZ‑1)  \n",
       "1  Dedicated SmallSat Rideshare mission to Sun-sy...  \n",
       "2                                     Success (LZ‑1)  \n",
       "3  Following the Russian invasion of Ukraine, One...  \n",
       "4                                         No attempt  "
      ]
     },
     "execution_count": 2,
     "metadata": {},
     "output_type": "execute_result"
    }
   ],
   "source": [
    "\n",
    "url = \"https://en.wikipedia.org/wiki/List_of_Falcon_9_and_Falcon_Heavy_launches\"\n",
    "response = requests.get(url)\n",
    "soup = BeautifulSoup(response.content, \"html.parser\")\n",
    "\n",
    "# Extract all launch tables\n",
    "tables = soup.find_all(\"table\", {\"class\": \"wikitable\"})\n",
    "print(f\"Found {len(tables)} tables\")\n",
    "\n",
    "# Parse the first few tables as an example\n",
    "dfs = pd.read_html(str(tables[0:3]))  # Adjust slice to desired number of tables\n",
    "df_combined = pd.concat(dfs, ignore_index=True)\n",
    "df_combined.head()\n"
   ]
  },
  {
   "cell_type": "markdown",
   "id": "61090ba5",
   "metadata": {},
   "source": [
    "## Save Scraped Data to CSV"
   ]
  },
  {
   "cell_type": "code",
   "execution_count": 3,
   "id": "93937414",
   "metadata": {},
   "outputs": [
    {
     "name": "stdout",
     "output_type": "stream",
     "text": [
      "Scraped data saved to 'spacex_wiki_launch_data.csv'\n"
     ]
    }
   ],
   "source": [
    "\n",
    "# Save scraped data\n",
    "df_combined.to_csv(\"spacex_wiki_launch_data.csv\", index=False)\n",
    "print(\"Scraped data saved to 'spacex_wiki_launch_data.csv'\")\n"
   ]
  }
 ],
 "metadata": {
  "kernelspec": {
   "display_name": "Python 3",
   "language": "python",
   "name": "python3"
  },
  "language_info": {
   "codemirror_mode": {
    "name": "ipython",
    "version": 3
   },
   "file_extension": ".py",
   "mimetype": "text/x-python",
   "name": "python",
   "nbconvert_exporter": "python",
   "pygments_lexer": "ipython3",
   "version": "3.12.3"
  }
 },
 "nbformat": 4,
 "nbformat_minor": 5
}
